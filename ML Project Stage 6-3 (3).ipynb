{
 "cells": [
  {
   "cell_type": "code",
   "execution_count": 1,
   "metadata": {},
   "outputs": [],
   "source": [
    "# %load http://che.byu.edu/imports.py\n",
    "import numpy             as np\n",
    "import matplotlib.pyplot as plt\n",
    "%matplotlib inline\n",
    "from scipy.optimize      import fsolve, curve_fit\n",
    "from scipy.integrate     import odeint, quad\n",
    "from scipy.interpolate   import interp1d\n",
    "from scipy.misc          import derivative\n",
    "import scipy.constants   as const\n",
    "import sympy             as sp\n",
    "sp.init_printing()\n",
    "import glob\n",
    "import time\n",
    "from scipy.optimize import minimize\n",
    "import pandas as pd\n",
    "\n",
    "import scipy as sp\n",
    "import solarsystem as ss\n",
    "import datetime\n",
    "pi = 3.14159265359\n",
    "import math\n",
    "\n",
    "#FOR ANIMATION\n",
    "import matplotlib.animation as animation\n",
    "from datetime import datetime, timezone\n",
    "from termcolor import colored"
   ]
  },
  {
   "cell_type": "markdown",
   "metadata": {},
   "source": [
    "### PARAMETERS"
   ]
  },
  {
   "cell_type": "code",
   "execution_count": 2,
   "metadata": {},
   "outputs": [],
   "source": [
    "#PARAMETERS\n",
    "mass = {'Mercury':3.285*10**23,\n",
    "'Venus':4.867*10**24,\n",
    "'Earth': 5.972*10**24,\n",
    "'Mars': 6.39*10**23,\n",
    "'Jupiter': 1.898*10**27,\n",
    "'Saturn':  5.683*10**26,  \n",
    "'Uranus': 8.681*10**25,  \n",
    "'Neptune':1.024*10**26,    \n",
    "'Pluto':0.01303*10**24,    \n",
    "'Ceres':9.1*10**20, \n",
    "'Chiron':4*10**17, \n",
    "'Eris':1.6466*10**22,\n",
    "'Sun':1.989*10**30,\n",
    "'Rocket':1000}                          #kg\n",
    "\n",
    "radius = {'Mercury':4878/2,\n",
    "'Venus':12104/2,\n",
    "'Earth':12756/2,\n",
    "'Mars':6794/2,\n",
    "'Jupiter':142984/2,\n",
    "'Saturn':120536/2,  \n",
    "'Uranus':51118/2,  \n",
    "'Neptune':49532,    \n",
    "'Pluto':1188,    \n",
    "'Ceres':473, \n",
    "'Chiron':135, \n",
    "'Eris':1163,\n",
    "'Sun':6963,\n",
    "'Rocket':0.002}                        #km\n",
    "\n",
    "c = 299792458                         #m/s\n",
    "G  = 6.674*10**-11                    #Nm^2/kg^2\n",
    "F = 0.83                             #newtons of force  original value was 83E-3"
   ]
  },
  {
   "cell_type": "markdown",
   "metadata": {},
   "source": [
    "### COLLISION"
   ]
  },
  {
   "cell_type": "code",
   "execution_count": 3,
   "metadata": {},
   "outputs": [],
   "source": [
    "#COLLISION FUNCTION\n",
    "def collision(px,py):\n",
    "    Return = 0\n",
    "    for i, planet in enumerate(names,0):\n",
    "        if planet=='Rocket':\n",
    "            continue\n",
    "        dx = px[i][-1]-px[-1][-1]\n",
    "        dy = py[i][-1]-py[-1][-1]\n",
    "        d  = (dx**2+dy**2)**0.5\n",
    "        if d<radius[planet]:\n",
    "            print(f'Rocket collided with the planet {planet}')\n",
    "            Return = 1\n",
    "            break\n",
    "        else:\n",
    "            Return = 0\n",
    "            \n",
    "    return Return "
   ]
  },
  {
   "cell_type": "markdown",
   "metadata": {},
   "source": [
    "### POSITION TRACKER"
   ]
  },
  {
   "cell_type": "code",
   "execution_count": 4,
   "metadata": {},
   "outputs": [],
   "source": [
    "#base: the planet the rocket will be starting near\n",
    "#t_0: The time at which we are giving the location\n",
    "#the function is given the base planet and will compute\n",
    "\n",
    "def position_tracker(destination_base,t_0,t_plus, x_off_set,y_off_set):\n",
    "   \n",
    "    #FINDING THE INITIAL RADIUS AND LONGITUDE RELATIVE TO THE SUN\n",
    "    px    = movement(t_0,0)[destination_base]['x']+x_off_set\n",
    "    py    = movement(t_0,0)[destination_base]['y']+y_off_set\n",
    "    r     = (px**2+py**2)**0.5\n",
    "    θ  = np.arctan(py/px)*180/pi\n",
    "\n",
    "    #FINDING DR AND D θ relative to the planet\n",
    "    θ_planet = movement(t0,0,cylindrical=True)[destination_base][0]\n",
    "    r_planet = movement(t0,0,cylindrical=True)[destination_base][1]\n",
    "    dr = r-r_planet\n",
    "    dθ = θ-θ_planet\n",
    "    \n",
    "    #FINDING THE X AND Y AT TIME T_PLUS\n",
    "    if t_plus>0:\n",
    "        θ_planet = movement(t0,t_plus,cylindrical=True)[destination_base][0]\n",
    "        r_planet = movement(t0,t_plus,cylindrical=True)[destination_base][1]\n",
    "        θ        = θ_planet+dθ  #the cyl coordinate relative to the sun\n",
    "        r        = r_planet+dr\n",
    "    \n",
    "    #CONVERTING THE R AND θ BACK TO XY\n",
    "    θ = θ*pi/180\n",
    "    x = np.cos(θ)*r\n",
    "    y = np.sin(θ)*r\n",
    "    return x,y"
   ]
  },
  {
   "cell_type": "markdown",
   "metadata": {},
   "source": [
    "### MOVEMENT"
   ]
  },
  {
   "cell_type": "code",
   "execution_count": 5,
   "metadata": {},
   "outputs": [],
   "source": [
    "\n",
    "#MOVEME3NT OF CELESTIAL OBJECTS\n",
    "#COLLECTING XYZ POSITIONS AND VELOCITIES FOR ALL CELESTIAL OBJECTS\n",
    "def movement(t0,t_plus=0,print=False, cylindrical=False):\n",
    "    #TIME\n",
    "    time = datetime.fromtimestamp(t0+t_plus)\n",
    "    year   = time.year\n",
    "    month  = time.month\n",
    "    day    = time.day\n",
    "    hour   = time.hour\n",
    "    minute = time.minute\n",
    "\n",
    "    UT                 = 0\n",
    "    dst                = 0 \n",
    "    view               ='horizontal'\n",
    "    H                  = ss.Heliocentric(year=year, month=month, day=day, hour=hour, minute=minute,UT=UT, dst=dst, view=view )\n",
    "    celestial_object   = H.planets()\n",
    "    distances          = []\n",
    "    dict               = {}\n",
    "    if print==True:\n",
    "        print('Planet', '   \\t','Longitude', '  \\t','Latitude', '   \\t','Distance')\n",
    "        print('-------------------------------------------------------------------')\n",
    "\n",
    "    for key in celestial_object:\n",
    "        distances.append(celestial_object[key][2])\n",
    "        elements = celestial_object[key]\n",
    "        dict[key] = [elements[0],elements[1],elements[2]*1.496E8]\n",
    "        if print==True:\n",
    "            print(key, '   \\t',round(elements[0],2), '  \\t',round(elements[1],2), '   \\t',round(elements[2]*1.496E8,2))\n",
    "    if print==True:\n",
    "        print()\n",
    "        print('Distance in m')\n",
    "\n",
    "    #CONVERTING TO XY PLANE\n",
    "    dict_xyz = {}\n",
    "    for key in dict:\n",
    "        #READING THE HORIZONTAL DATA \n",
    "        longitude,latitude,distance = dict[key] \n",
    "\n",
    "        #X AND Y ACCORDING TO THE QUADRANT\n",
    "        if 90>longitude>=0:  #QUADRANT I\n",
    "            θ = longitude*pi/180\n",
    "            x = np.cos(θ)*distance\n",
    "            y = np.sin(θ)*distance\n",
    "\n",
    "        if 180>longitude>=90:  #QUADRANT II\n",
    "            θ = pi-longitude*pi/180\n",
    "            x = -np.cos(θ)*distance\n",
    "            y = np.sin(θ)*distance\n",
    "\n",
    "        if 270>longitude>=180:  #QUADRANT III\n",
    "            θ = longitude*pi/180-pi\n",
    "            x = -np.cos(θ)*distance\n",
    "            y = -np.sin(θ)*distance\n",
    "\n",
    "        if 360>longitude>=270: #QUADRANT IV\n",
    "            θ = 2*pi-longitude*pi/180\n",
    "            x = np.cos(θ)*distance\n",
    "            y = -np.sin(θ)*distance\n",
    "\n",
    "        #FINDING THE Z COORDINATE\n",
    "        if np.abs(latitude)!=latitude:\n",
    "            θ = np.abs(latitude)*pi/180\n",
    "            z = -np.sin(θ)*distance\n",
    "\n",
    "        if 270<latitude<360:\n",
    "            θ = 2*pi-latitude*pi/180\n",
    "            z = -np.sin(θ)*distance\n",
    "\n",
    "        if 0<latitude<90:\n",
    "            θ = latitude*pi/180\n",
    "            z = np.sin(θ)*distance\n",
    "\n",
    "        #SAVING DATA TO DICT XYZ\n",
    "        dict_inner    = {'x':x,'y':y,'z':z}\n",
    "        dict_xyz[key] = dict_inner       #distance in kilometers\n",
    "    #ADDING THE POSITION OF THE SUN\n",
    "    dict_xyz['Sun'] = {'x':0,'y':0,'z':0}\n",
    "    if cylindrical==False:\n",
    "        Return = dict_xyz\n",
    "    if cylindrical==True:\n",
    "        Return = dict\n",
    "    return Return"
   ]
  },
  {
   "cell_type": "markdown",
   "metadata": {},
   "source": [
    "### FORCE BALANCE "
   ]
  },
  {
   "cell_type": "code",
   "execution_count": 6,
   "metadata": {},
   "outputs": [],
   "source": [
    "#this determines the necessary Fxthrust and Fy thrust to head straight towards our destination\n",
    "def Fbalance(xnow,ynow,xtarget,ytarget,Fxparasite,Fyparasite):\n",
    "    #Feffective\n",
    "    xl    = xtarget-xnow                                     #distance in x to destination\n",
    "    yl    = ytarget-ynow                                     #distance in y to destination\n",
    "    \n",
    "    def solver(X):\n",
    "        Fxt,Fyt = X\n",
    "        Fxe,Fye = (Fxparasite+Fxt),(Fyparasite+Fyt)\n",
    "        EQ1     = yl*Fxe-xl*Fye\n",
    "        EQ2     = F-(Fxe**2+Fye**2)**0.5\n",
    "        return EQ1,EQ2\n",
    "    \n",
    "    guessx,guessy = 0,0\n",
    "    guessx = np.sign(np.array(xl))\n",
    "    guessy = np.sign(np.array(yl))\n",
    "    \n",
    "\n",
    "    Fxthrust,Fythrust =fsolve(solver,(guessx,guessy))\n",
    "    \n",
    "    H_desired = (Fxthrust+Fxparasite),(Fythrust+Fyparasite)\n",
    "    \n",
    "    return Fxthrust,Fythrust,H_desired"
   ]
  },
  {
   "cell_type": "markdown",
   "metadata": {},
   "source": [
    "### FOPDT FUNCTION"
   ]
  },
  {
   "cell_type": "code",
   "execution_count": 7,
   "metadata": {},
   "outputs": [],
   "source": [
    "#H_desired_prev is the vector [Fxnet,Fynet]\n",
    "#H_des_prev is the angle version of H_desired_prev\n",
    "#H_act_prev is the heading according to the last two positions\n",
    "#H_a is the adjustment to the heading (H_rocket = H_a+H(from F balance))\n",
    "\n",
    "def F_adjust(H_desired_prev,H_act_prev,H_adj_p,kp,τ,θ,dt):  #for now ignore theta\n",
    "    \n",
    "    H_des_prev    = np.arctan(H_desired_prev[1]/H_desired_prev[0])*180/pi\n",
    "    H_actual_prev = np.arctan(H_act_prev[1]/H_act_prev[0])*180/pi\n",
    "    H_adj = (kp*(H_des_prev-H_actual_prev)-H_actual_prev*τ/dt)*dt/(1-τ)\n",
    "    \n",
    "    def solver(X):\n",
    "        dFx,dFy = X\n",
    "        eq1 = (dFx**2+dFy**2)**0.5\n",
    "        eq2 = np.arctan(dFy/dFx)-H_adj\n",
    "        return eq1,eq2\n",
    "    \n",
    "    #creating guess values\n",
    "    errorx = H_desired_prev[0]-H_act_prev[0]\n",
    "    errory = H_desired_prev[1]-H_act_prev[1]\n",
    "    gx = np.sign(np.array(errorx))\n",
    "    gy = np.sign(np.array(errory))\n",
    "    \n",
    "    dFx,dFy = fsolve(solver, (gx,gy))\n",
    "    \n",
    "    return dFx,dFy,H_adj"
   ]
  },
  {
   "cell_type": "markdown",
   "metadata": {},
   "source": [
    "### SIMULATOR"
   ]
  },
  {
   "cell_type": "code",
   "execution_count": 8,
   "metadata": {},
   "outputs": [],
   "source": [
    "    #SIMULATOR\n",
    "    #UNITS\n",
    "'''KILOMETERS, KG, SECONDS'''\n",
    "#PARAMETERS\n",
    "names = ['Earth','Venus','Mercury', 'Mars','Ceres','Jupiter','Rocket']          #!!! make rocket the last in the list\n",
    "Mass = np.zeros(len(names))\n",
    "for i,p in enumerate(names,0):Mass[i] = mass[p]  \n",
    "G  = (6.674*10**-11)*(1/1000)**3                        #Nkm^2/kg^2  N = kg*km/s**2\n",
    "    \n",
    "#TIME ARRAY\n",
    "dt = 60   #seconds\n",
    "start = time.time()\n",
    "\n",
    "'''POSITION VARIABLES'''\n",
    "px = []\n",
    "py = []\n",
    "\n",
    "'''VELOCITY VARIABLES'''\n",
    "vx_rocket = []\n",
    "vy_rocket = []\n",
    "\n",
    "'''ACCELERATION VARIABLES'''\n",
    "ax_rocket = []\n",
    "ay_rocket = []\n",
    "\n",
    "'''FORCE VARIABLES'''\n",
    "fx_rocket = []\n",
    "fy_rocket = []\n",
    "\n",
    "'''FORCE MOTOR'''\n",
    "fx_motor  = []\n",
    "fy_motor  = []\n",
    "\n",
    "'''PARASITE FORCE'''\n",
    "Fxparasite = []\n",
    "Fyparasite = []\n",
    "\n",
    "'''COUNTING'''\n",
    "counter     = []\n",
    "time_array  = []\n",
    "d_store     = []\n",
    "dt_store    = []\n",
    "Hadj_store  = []\n",
    "H_act_prev  = []\n",
    "Fxa_store   = []\n",
    "Fya_store   = []\n",
    "H_desired_store = []\n",
    "flight_time = 0\n",
    "t0          = time.time()\n",
    "time_array.append(time.time())\n",
    "\n",
    "\n",
    "'''NOISE'''\n",
    "Fxnoise = np.random.normal(1,0.0001,10**8)\n",
    "Fynoise = np.random.normal(1,0.0001,10**8)\n",
    "\n",
    "###############################################\n",
    "'''THE FUNCTION'''\n",
    "    def function(x_rocket_0,y_rocket_0,x_off_set,y_off_set,t_start = time.time(),base='Earth',destination_base = 'Mars', planetary_movement='False',\n",
    "                Kp=1,τ=10):\n",
    "        '''RESETING ARRAYS'''    \n",
    "        px.clear()\n",
    "        py.clear()\n",
    "        vx_rocket.clear()\n",
    "        vy_rocket.clear()\n",
    "        ax_rocket.clear()\n",
    "        ay_rocket.clear()\n",
    "        fx_rocket.clear()\n",
    "        fy_rocket.clear()    \n",
    "        d_store.clear()\n",
    "        dt_store.clear()\n",
    "        \n",
    "        '''APPENDING INITIAL DATA'''\n",
    "        '''POSITIONS'''\n",
    "        px_now = movement(t_start,0)\n",
    "        for i in range(len(names)): px.append([]),py.append([])\n",
    "        for i,planet in enumerate(names,0): \n",
    "            if planet=='Rocket':\n",
    "                px[i].append(x_rocket_0+px_now[base]['x']),py[i].append(y_rocket_0+px_now[base]['y'])\n",
    "                continue\n",
    "            px[i].append(px_now[planet]['x']),py[i].append(px_now[planet]['y'])\n",
    "\n",
    "    \n",
    "        '''VELOCITIES'''\n",
    "        vx_rocket.append(0)\n",
    "        vy_rocket.append(0)\n",
    "    \n",
    "        '''ACCELERATION'''\n",
    "        ax_rocket.append(0)\n",
    "        ay_rocket.append(0)\n",
    "    \n",
    "        '''FORCE'''\n",
    "        fx_rocket.append(0)\n",
    "        fy_rocket.append(0)\n",
    "        \n",
    "        '''PARASITE FORCE'''\n",
    "        sum_forcex = 0\n",
    "        xrocket0 = px[-1]\n",
    "        for num,x2 in enumerate(px,0):\n",
    "            if names[i]=='Rocket':\n",
    "                continue\n",
    "            if xrocket0[t]>x2:\n",
    "                sign1x = -1\n",
    "                sign2x = 1\n",
    "            else:\n",
    "                sign1x = 1\n",
    "                sign2x = -1     \n",
    "            if names[num]!='Rocket':\n",
    "                sum_forcex+=G*mass['Rocket']*Mass[num]/(xrocket0-x2[0])**2*sign1x\n",
    "        Fxparasite.append(sum_forcex)\n",
    "        \n",
    "        sum_forcey = 0\n",
    "        yrocket0 = py[-1]\n",
    "        for num,y2 in enumerate(py,0):\n",
    "            if names[i]=='Rocket':\n",
    "                continue\n",
    "            if yrocket0[t]>y2:\n",
    "                sign1y = -1\n",
    "                sign2y = 1\n",
    "            else:\n",
    "                sign1y = 1\n",
    "                sign2y = -1     \n",
    "            if names[num]!='Rocket':\n",
    "                sum_forcey+=G*mass['Rocket']*Mass[num]/(yrocket0-y2[0])**2*sign1y\n",
    "        Fyparasite.append(sum_forcey)\n",
    "    \n",
    "\n",
    "        '''INITIALIZING THE DISTANCE AND TIME'''\n",
    "        x_target,y_target = position_tracker(destination_base,t_start,0, x_off_set,y_off_set)\n",
    "        dx =x_target-px[-1][0] \n",
    "        dy =y_target-py[-1][0]\n",
    "        distance = (dx**2+dy**2)**0.5\n",
    "        distance0=distance\n",
    "        t =0\n",
    "        flight_time = 0\n",
    "        A = 0\n",
    "    \n",
    "     ###################################   \n",
    "    \n",
    "        '''START THE WHILE LOOP'''\n",
    "        while distance>250000 and A==0:               #km\n",
    "            #code to decrease dt if we are predicted to arrive in the next \n",
    "            \n",
    "            \n",
    "            '''FINDING THE HEADING TO THE TARGET'''\n",
    "                        \n",
    "            if planetary_movement=='False':\n",
    "                xtarget,ytarget = position_tracker(destination_base,t_start,0, x_off_set,y_off_set)\n",
    "                fxthrust,fythrust,H_desired = Fbalance(px[-1][t],py[-1][t],xtarget,ytarget,Fxparasite[t],Fyparasite[t])\n",
    "            if planetary_movement=='True':\n",
    "                xtarget,ytarget = position_tracker(destination_base,t_start,t, x_off_set,y_off_set)\n",
    "                fxthrust,fythrust,H_desired = Fbalance(px[-1][t],py[-1][t],xtarget,ytarget,Fxparasite[t],Fyparasite[t])\n",
    "            \n",
    "            '''FOPDT FORCE ADJUSTMENT'''\n",
    "            H_desired_store.append(H_desired)\n",
    "            if t>3:        \n",
    "                H_act_prev.append([(ax_rocket[-2]-ax_rocket[-1])/mass['Rocket']\n",
    "                               ,(ay_rocket[-2]-ay_rocket[-1])/mass['Rocket']])\n",
    "            if t<5:\n",
    "                Hadj = 0\n",
    "                Fxa,Fya = 0,0\n",
    "            if t>=5:\n",
    "                #Kp = 1\n",
    "                #τ  = 1\n",
    "                θ  = 0    \n",
    "                Fxa,Fya,Hadj = F_adjust(H_desired,H_act_prev[-1],Hadj_store[-1],Kp,τ,θ,dt)\n",
    "            Fxa_store.append(Fxa)\n",
    "            Fya_store.append(Fya)\n",
    "            Hadj_store.append(Hadj)\n",
    "            \n",
    "            \n",
    "            '''PLANETARY MOVEMENT'''\n",
    "            if planetary_movement=='False':\n",
    "                xyz_planet = movement(t0,0)\n",
    "            if planetary_movement=='True':\n",
    "                xyz_planet = movement(t0,t)\n",
    "                \n",
    "                \n",
    "            '''FINDING PLANET PX & ROCKET FORCE'''\n",
    "            for i,x1 in enumerate(px,0):\n",
    "                sum_force = 0               #only for the rocket\n",
    "                if names[i]=='Rocket':\n",
    "                    for j,x2 in enumerate(px,0):\n",
    "                        if x1[t]>x2[t]:\n",
    "                            sign1x = -1\n",
    "                            sign2x = 1\n",
    "                        else:\n",
    "                            sign1x = 1\n",
    "                            sign2x = -1     \n",
    "                        if names[j]!='Rocket':\n",
    "                            sum_force+=G*Mass[i]*Mass[j]/(x1[t]-x2[t])**2*sign1x\n",
    "                    Fxparasite.append(sum_force)\n",
    "                    #sum_force*=Fxnoise[t]\n",
    "                    sum_force+=fxthrust #+Fxa\n",
    "                    fx_motor.append(fxthrust+Fxa)\n",
    "                    fx_rocket.append(sum_force)\n",
    "                    continue    \n",
    "                x1.append(xyz_planet[names[i]]['x'])\n",
    "           \n",
    "            '''ACCELERATION X'''\n",
    "            ax_rocket.append(fx_rocket[-1]/mass['Rocket'])    #km/s^2\n",
    "\n",
    "            '''VELOCITY X'''\n",
    "            vx_rocket.append(vx_rocket[-1]+ax_rocket[-1]*dt)    #km/s\n",
    "            \n",
    "            '''POSITION X'''\n",
    "            px[-1].append(px[-1][-1]+vx_rocket[t]*dt)          #km from origin           \n",
    "            \n",
    "            \n",
    "            ''' Y AXIS'''        \n",
    "            '''FINDING PLANET PY'''\n",
    "            for i,y1 in enumerate(py,0):\n",
    "                sum_force = 0               #only for the rocket\n",
    "                if names[i]=='Rocket':\n",
    "                    for j,y2 in enumerate(py,0):\n",
    "                        if y1[t]>y2[t]:\n",
    "                            sign1y = -1\n",
    "                            sign2y = 1\n",
    "                        else:\n",
    "                            sign1y = 1\n",
    "                            sign2y = -1     \n",
    "                        if names[j]!='Rocket':\n",
    "                            sum_force+=G*Mass[i]*Mass[j]/(y1[t]-y2[t])**2*sign1y\n",
    "                    Fyparasite.append(sum_force)\n",
    "                    #sum_force*=Fynoise[i]\n",
    "                    sum_force+=fythrust #+Fya\n",
    "                    fy_motor.append(fythrust+Fya)\n",
    "                    fy_rocket.append(sum_force)\n",
    "                    continue            \n",
    "                y1.append(xyz_planet[names[i]]['y'])\n",
    "                    \n",
    "            '''ACCELERATION Y'''\n",
    "            ay_rocket.append(fy_rocket[-1]/mass['Rocket'])    #km/s^2\n",
    "\n",
    "            '''VELOCITY Y'''\n",
    "            vy_rocket.append(vy_rocket[-1]+ay_rocket[t]*dt)    #km/s\n",
    "            \n",
    "            '''POSITION Y'''\n",
    "            py[-1].append(py[-1][-1]+vy_rocket[-1]*dt)          #km from origin\n",
    "           \n",
    "            '''BREAKING IF ROCKET HITS THE ATMOSPHER'''\n",
    "            A = collision(px,py)        \n",
    "            \n",
    "            '''DISTANCE'''\n",
    "            dx =x_target-px[-1][-1] \n",
    "            dy =y_target-py[-1][-1]\n",
    "            distance = (dx**2+dy**2)**0.5\n",
    "            d_store.append(distance)\n",
    "            \n",
    "            '''RUN AWAY DISTANCE'''\n",
    "            if np.abs(distance)>6*10**9:\n",
    "                print('Rocket left solar system')\n",
    "                break\n",
    "            \n",
    "            '''TIMER'''\n",
    "            print_freq = 1000\n",
    "            if t%print_freq==0:\n",
    "                if t<3:\n",
    "                    print(f'Distance Remaining:{np.around(distance)} of {np.around(distance0)} km')\n",
    "                if t>=3:\n",
    "                    if d_store[-1]<=d_store[-2]:\n",
    "                        print(colored(f'Distance Remaining:{np.around(distance,0)} of {np.around(distance0,0)} km', 'green'))    \n",
    "                    if d_store[-1]>d_store[-2]:\n",
    "                        print(colored(f'Distance Remaining:{np.around(distance,0)} of {np.around(distance0,0)} km', 'red'))\n",
    "                time_array.append(time.time())\n",
    "                print(f\"Computation time for {print_freq}\" ,\" {:.{}f}\".format(time_array[-1]-time_array[-2], 3 ))\n",
    "                #print('ETA = ', round((100-sum(counter))*(time_array[-1]-time_array[0])/sum(counter),2))\n",
    "            t +=1 \n",
    "            #dt_store.append(dt)\n",
    "            '''FLIGHT TIME'''\n",
    "            flight_time = dt*t\n",
    "\n",
    "  \n",
    "        '''PRINTING COMP TIME'''    \n",
    "        end = time.time()\n",
    "        #print(f'Computation time = ', round((end-start),2))\n",
    "        print('Flight Time =', flight_time)\n",
    "        print()\n",
    "        return flight_time\n",
    "#tell the optimizer which angles cause ss abondonment "
   ]
  },
  {
   "cell_type": "markdown",
   "metadata": {},
   "source": [
    "### CALLER"
   ]
  },
  {
   "cell_type": "code",
   "execution_count": 9,
   "metadata": {
    "scrolled": true
   },
   "outputs": [
    {
     "name": "stdout",
     "output_type": "stream",
     "text": [
      "Distance Remaining:1414072141.0 of 1414072141.0 km\n",
      "Computation time for 1000  5.879\n"
     ]
    },
    {
     "name": "stderr",
     "output_type": "stream",
     "text": [
      "C:\\Users\\Josh\\anaconda3\\lib\\site-packages\\scipy\\optimize\\minpack.py:175: RuntimeWarning: The iteration is not making good progress, as measured by the \n",
      "  improvement from the last ten iterations.\n",
      "  warnings.warn(msg, RuntimeWarning)\n"
     ]
    },
    {
     "name": "stdout",
     "output_type": "stream",
     "text": [
      "\u001b[32mDistance Remaining:1412576696.0 of 1414072141.0 km\u001b[0m\n",
      "Computation time for 1000  1.589\n",
      "\u001b[32mDistance Remaining:1408093202.0 of 1414072141.0 km\u001b[0m\n",
      "Computation time for 1000  1.530\n",
      "\u001b[32mDistance Remaining:1400621708.0 of 1414072141.0 km\u001b[0m\n",
      "Computation time for 1000  1.400\n",
      "\u001b[32mDistance Remaining:1390162214.0 of 1414072141.0 km\u001b[0m\n",
      "Computation time for 1000  1.368\n",
      "\u001b[32mDistance Remaining:1376714698.0 of 1414072141.0 km\u001b[0m\n",
      "Computation time for 1000  1.471\n",
      "\u001b[32mDistance Remaining:1360279204.0 of 1414072141.0 km\u001b[0m\n",
      "Computation time for 1000  1.523\n",
      "\u001b[32mDistance Remaining:1340855710.0 of 1414072141.0 km\u001b[0m\n",
      "Computation time for 1000  1.407\n",
      "\u001b[32mDistance Remaining:1318444216.0 of 1414072141.0 km\u001b[0m\n",
      "Computation time for 1000  1.580\n"
     ]
    },
    {
     "name": "stderr",
     "output_type": "stream",
     "text": [
      "C:\\Users\\Josh\\anaconda3\\lib\\site-packages\\scipy\\optimize\\minpack.py:175: RuntimeWarning: The iteration is not making good progress, as measured by the \n",
      "  improvement from the last five Jacobian evaluations.\n",
      "  warnings.warn(msg, RuntimeWarning)\n"
     ]
    },
    {
     "name": "stdout",
     "output_type": "stream",
     "text": [
      "\u001b[32mDistance Remaining:1293044722.0 of 1414072141.0 km\u001b[0m\n",
      "Computation time for 1000  1.454\n",
      "\u001b[32mDistance Remaining:1264657227.0 of 1414072141.0 km\u001b[0m\n",
      "Computation time for 1000  1.457\n",
      "\u001b[32mDistance Remaining:1233281733.0 of 1414072141.0 km\u001b[0m\n",
      "Computation time for 1000  1.327\n",
      "\u001b[32mDistance Remaining:1198918217.0 of 1414072141.0 km\u001b[0m\n",
      "Computation time for 1000  1.310\n",
      "\u001b[32mDistance Remaining:1161566723.0 of 1414072141.0 km\u001b[0m\n",
      "Computation time for 1000  1.446\n",
      "\u001b[32mDistance Remaining:1121227229.0 of 1414072141.0 km\u001b[0m\n",
      "Computation time for 1000  1.405\n",
      "\u001b[32mDistance Remaining:1077899718.0 of 1414072141.0 km\u001b[0m\n",
      "Computation time for 1000  1.515\n",
      "\u001b[32mDistance Remaining:1031584224.0 of 1414072141.0 km\u001b[0m\n",
      "Computation time for 1000  1.468\n",
      "\u001b[32mDistance Remaining:982280725.0 of 1414072141.0 km\u001b[0m\n",
      "Computation time for 1000  1.559\n",
      "\u001b[32mDistance Remaining:929989231.0 of 1414072141.0 km\u001b[0m\n",
      "Computation time for 1000  1.689\n",
      "\u001b[32mDistance Remaining:874709737.0 of 1414072141.0 km\u001b[0m\n",
      "Computation time for 1000  1.380\n",
      "\u001b[32mDistance Remaining:816442243.0 of 1414072141.0 km\u001b[0m\n",
      "Computation time for 1000  1.370\n",
      "\u001b[32mDistance Remaining:755186749.0 of 1414072141.0 km\u001b[0m\n",
      "Computation time for 1000  1.484\n",
      "\u001b[32mDistance Remaining:690943255.0 of 1414072141.0 km\u001b[0m\n",
      "Computation time for 1000  1.522\n",
      "\u001b[32mDistance Remaining:623711761.0 of 1414072141.0 km\u001b[0m\n",
      "Computation time for 1000  1.642\n",
      "\u001b[32mDistance Remaining:553492267.0 of 1414072141.0 km\u001b[0m\n",
      "Computation time for 1000  1.576\n",
      "\u001b[32mDistance Remaining:480284772.0 of 1414072141.0 km\u001b[0m\n",
      "Computation time for 1000  1.469\n",
      "\u001b[32mDistance Remaining:404131607.0 of 1414072141.0 km\u001b[0m\n",
      "Computation time for 1000  1.476\n",
      "\u001b[32mDistance Remaining:324977993.0 of 1414072141.0 km\u001b[0m\n",
      "Computation time for 1000  1.448\n",
      "\u001b[32mDistance Remaining:242836379.0 of 1414072141.0 km\u001b[0m\n",
      "Computation time for 1000  1.443\n",
      "\u001b[32mDistance Remaining:157706766.0 of 1414072141.0 km\u001b[0m\n",
      "Computation time for 1000  1.600\n",
      "\u001b[32mDistance Remaining:69589153.0 of 1414072141.0 km\u001b[0m\n",
      "Computation time for 1000  1.412\n",
      "Flight Time = 1845960\n",
      "\n",
      "Computation time = 45\n"
     ]
    },
    {
     "name": "stderr",
     "output_type": "stream",
     "text": [
      "<ipython-input-7-b5db76203f9f>:15: RuntimeWarning: divide by zero encountered in double_scalars\n",
      "  eq2 = np.arctan(dFy/dFx)-H_adj\n"
     ]
    }
   ],
   "source": [
    "start = time.time()\n",
    "x_rocket_0 = 100000\n",
    "y_rocket_0 = 100000\n",
    "x_off_set  = 1000000000\n",
    "y_off_set  = 1000000000\n",
    "function(x_rocket_0,y_rocket_0,x_off_set,y_off_set,base='Earth',\n",
    "         destination_base='Earth')\n",
    "end = time.time()\n",
    "print(\"Computation time = {:.{}f}\".format( end-start, 0 ))"
   ]
  },
  {
   "cell_type": "markdown",
   "metadata": {},
   "source": [
    "### PLOTTING"
   ]
  },
  {
   "cell_type": "code",
   "execution_count": 10,
   "metadata": {
    "scrolled": false
   },
   "outputs": [
    {
     "data": {
      "image/png": "[encoded data removed]",
      "text/plain": [
       "<Figure size 1440x1440 with 1 Axes>"
      ]
     },
     "metadata": {
      "needs_background": "light"
     },
     "output_type": "display_data"
    },
    {
     "data": {
      "image/png": "[encoded data removed]",
      "text/plain": [
       "<Figure size 1440x1440 with 1 Axes>"
      ]
     },
     "metadata": {
      "needs_background": "light"
     },
     "output_type": "display_data"
    },
    {
     "data": {
      "image/png": "[encoded data removed]",
      "text/plain": [
       "<Figure size 1440x1440 with 1 Axes>"
      ]
     },
     "metadata": {
      "needs_background": "light"
     },
     "output_type": "display_data"
    },
    {
     "data": {
      "image/png": "[encoded data removed]",
      "text/plain": [
       "<Figure size 1440x1440 with 1 Axes>"
      ]
     },
     "metadata": {
      "needs_background": "light"
     },
     "output_type": "display_data"
    },
    {
     "data": {
      "image/png": "[encoded data removed]",
      "text/plain": [
       "<Figure size 1440x1440 with 1 Axes>"
      ]
     },
     "metadata": {
      "needs_background": "light"
     },
     "output_type": "display_data"
    },
    {
     "data": {
      "image/png": "[encoded data removed]",
      "text/plain": [
       "<Figure size 1440x1440 with 1 Axes>"
      ]
     },
     "metadata": {
      "needs_background": "light"
     },
     "output_type": "display_data"
    },
    {
     "data": {
      "image/png": "[encoded data removed]",
      "text/plain": [
       "<Figure size 1440x1440 with 1 Axes>"
      ]
     },
     "metadata": {
      "needs_background": "light"
     },
     "output_type": "display_data"
    },
    {
     "data": {
      "image/png": "[encoded data removed]",
      "text/plain": [
       "<Figure size 1440x1440 with 1 Axes>"
      ]
     },
     "metadata": {
      "needs_background": "light"
     },
     "output_type": "display_data"
    }
   ],
   "source": [
    "#PLOTTING\n",
    "'''SETTING SOME PARAMETERS'''\n",
    "w = 20\n",
    "fs= 20\n",
    "\n",
    "'''X PLOTS'''\n",
    "plt.figure(figsize=(20,w))\n",
    "plt.subplot(8,1,1)\n",
    "plt.title('position x', fontsize=20)\n",
    "for i,x in enumerate(px,0):\n",
    "    plt.plot(x[1:], label=names[i])\n",
    "plt.xlabel('time (seconds)')    \n",
    "plt.ylabel('km')\n",
    "plt.legend();\n",
    "    \n",
    "plt.figure(figsize=(20,w))\n",
    "plt.subplot(8,1,2)\n",
    "plt.title('velocities x', fontsize=20)\n",
    "plt.plot(vx_rocket, label='rocket vx')\n",
    "plt.xlabel('time (seconds)')    \n",
    "plt.ylabel('km/s')\n",
    "plt.legend(); \n",
    "\n",
    "plt.figure(figsize=(20,w))\n",
    "plt.subplot(8,1,3)\n",
    "plt.title('acceleration x', fontsize=20)\n",
    "plt.plot(ax_rocket, label='rocket ax')\n",
    "plt.xlabel('time (seconds)')    \n",
    "plt.ylabel('km/s**2')\n",
    "plt.legend();\n",
    "\n",
    "plt.figure(figsize=(20,w))\n",
    "plt.subplot(8,1,4)\n",
    "plt.title('force x', fontsize=20)\n",
    "plt.plot(fx_rocket, label='rocket f')\n",
    "plt.xlabel('time (seconds)')    \n",
    "plt.ylabel('newtons')\n",
    "plt.legend();\n",
    "\n",
    "'''Y PLOTS'''\n",
    "plt.figure(figsize=(20,w))\n",
    "plt.subplot(8,1,5)\n",
    "plt.title('position y', fontsize=20)\n",
    "for i,y in enumerate(py,0):\n",
    "    plt.plot(y[1:], label=names[i])\n",
    "    if i==len(names)-1:\n",
    "        plt.plot(y[1:], '.',label=names[i])\n",
    "plt.xlabel('time (seconds)')    \n",
    "plt.ylabel('km')\n",
    "plt.legend();\n",
    "    \n",
    "plt.figure(figsize=(20,w))\n",
    "plt.subplot(8,1,6)\n",
    "plt.title('velocities y', fontsize=20)\n",
    "plt.plot(vy_rocket, label='rocket vy')\n",
    "plt.xlabel('time (seconds)')    \n",
    "plt.ylabel('km')\n",
    "plt.legend();\n",
    "\n",
    "plt.figure(figsize=(20,w))\n",
    "plt.subplot(8,1,7)\n",
    "plt.title('acceleration y', fontsize=20)\n",
    "plt.plot(ay_rocket, label='rocket ay')\n",
    "plt.xlabel('time (seconds)')    \n",
    "plt.ylabel('km')\n",
    "plt.legend();\n",
    "\n",
    "plt.figure(figsize=(20,w))\n",
    "plt.subplot(8,1,8)\n",
    "plt.title('force y', fontsize=20)\n",
    "plt.plot(fy_rocket, label='rocket fy')\n",
    "plt.xlabel('time (seconds)')\n",
    "plt.ylabel('km')\n",
    "plt.legend();"
   ]
  },
  {
   "cell_type": "code",
   "execution_count": null,
   "metadata": {},
   "outputs": [],
   "source": [
    "plt.figure(figsize=(10,10))\n",
    "plt.title('position ', fontsize=25)\n",
    "for i,x in enumerate(px,0):\n",
    "    markersize = 1000\n",
    "    if i == len(names):\n",
    "        markersize=4\n",
    "    plt.plot(x[1:],py[i][:-1], label=names[i], markersize=markersize)\n",
    "plt.xlabel('km', fontsize=20)    \n",
    "plt.ylabel('km', fontsize=20)\n",
    "plt.xticks(fontsize=20)\n",
    "plt.yticks(fontsize=20)\n",
    "plt.legend(fontsize=20);\n",
    "\n",
    "#make the other planets larger\n",
    "plt.figure(figsize=(10,10))\n",
    "plt.title('Distance')\n",
    "plt.plot(d_store)\n",
    "#plt.ylim((0,d_store[0]));"
   ]
  },
  {
   "cell_type": "markdown",
   "metadata": {},
   "source": [
    "### PLOTTING FOR PROGRESS REPORT 3"
   ]
  },
  {
   "cell_type": "code",
   "execution_count": 22,
   "metadata": {
    "scrolled": true
   },
   "outputs": [
    {
     "data": {
      "image/png": "[encoded data removed]",
      "text/plain": [
       "<Figure size 432x288 with 1 Axes>"
      ]
     },
     "metadata": {
      "needs_background": "light"
     },
     "output_type": "display_data"
    }
   ],
   "source": [
    "#X VS Y WITH DESTINATION HIGHLITED\n",
    "\n",
    "#plt.figure(figsize=(10,10))\n",
    "plt.title('position ', fontsize=25)\n",
    "for i,x in enumerate(px,0):\n",
    "    markersize = 1000\n",
    "    if i == len(names):\n",
    "        markersize=4\n",
    "    plt.plot(x[1:],py[i][:-1], label=names[i], markersize=markersize)\n",
    "plt.xlabel('km', fontsize=20)    \n",
    "plt.ylabel('km', fontsize=20)\n",
    "plt.xticks(fontsize=20)\n",
    "plt.yticks(fontsize=20);\n",
    "#plt.legend(fontsize=20);\n",
    "\n",
    "\n"
   ]
  },
  {
   "cell_type": "code",
   "execution_count": 20,
   "metadata": {},
   "outputs": [
    {
     "data": {
      "image/png": "[encoded data removed]",
      "text/plain": [
       "<Figure size 432x288 with 1 Axes>"
      ]
     },
     "metadata": {
      "needs_background": "light"
     },
     "output_type": "display_data"
    }
   ],
   "source": [
    "t = np.linspace(0,len(fx_motor),len(fx_motor))\n",
    "plt.title('Forces of motor in y and x vector')\n",
    "plt.plot(t,fx_motor, label='fx vector of motor')\n",
    "plt.plot(t,fy_motor, label='fy vector of motor')\n",
    "plt.text(12,-8,'The flight time was 1846140')\n",
    "plt.ylim(-F,F);\n"
   ]
  },
  {
   "cell_type": "code",
   "execution_count": null,
   "metadata": {},
   "outputs": [],
   "source": [
    "#FORCE ROCKET MOTORS VS TIME WITH K TAU PRINTED\n",
    "\n",
    "plt.figure(figsize=(100,100))\n",
    "\n",
    "\n",
    "\n",
    "\n",
    "plt.legend();"
   ]
  },
  {
   "cell_type": "code",
   "execution_count": null,
   "metadata": {},
   "outputs": [],
   "source": []
  }
 ],
 "metadata": {
  "kernelspec": {
   "display_name": "Python 3",
   "language": "python",
   "name": "python3"
  },
  "language_info": {
   "codemirror_mode": {
    "name": "ipython",
    "version": 3
   },
   "file_extension": ".py",
   "mimetype": "text/x-python",
   "name": "python",
   "nbconvert_exporter": "python",
   "pygments_lexer": "ipython3",
   "version": "3.8.3"
  }
 },
 "nbformat": 4,
 "nbformat_minor": 4
}
